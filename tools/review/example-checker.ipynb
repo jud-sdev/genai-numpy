{
 "cells": [
  {
   "cell_type": "code",
   "execution_count": null,
   "metadata": {},
   "outputs": [],
   "source": [
    "import sys\n",
    "from pathlib import Path\n",
    "current_dir = Path().resolve()\n",
    "relative_path = current_dir.parents[2] / 'genai-numpy' / 'examples'\n",
    "sys.path.insert(1, str(relative_path))\n",
    "print(\"Inserted path:\", relative_path)",
    "from example_post_processing import *\n"
   ]
  },
  {
   "cell_type": "code",
   "execution_count": null,
   "metadata": {},
   "outputs": [],
   "source": [
    "import numpy as np\n",
    "np.__version__"
   ]
  },
  {
   "cell_type": "code",
   "execution_count": null,
   "metadata": {},
   "outputs": [],
   "source": [
    "# Cells must start with a comment, see https://github.com/jupyterlab/jupyterlab/issues/16483\n",
    "text = \"\"\"\n",
    "    Basic correlation:\n",
    "\n",
    "    >>> a = np.array([1, 2, 3])\n",
    "    >>> v = np.array([0, 1, 0])\n",
    "    >>> np.ma.correlate(a, v)\n",
    "    masked_array(data=[4],\n",
    "                 mask=[False],\n",
    "           fill_value=999999)\n",
    "\n",
    "    Correlation with masked elements:\n",
    "\n",
    "    >>> a = np.ma.array([1, 2, 3], mask=[False, True, False])\n",
    "    >>> v = np.ma.array([0, 1, 0])\n",
    "    >>> np.ma.correlate(a, v)\n",
    "    masked_array(data=[-4-],\n",
    "                 mask=[ True],\n",
    "           fill_value=999999,\n",
    "                dtype=int64)\n",
    "                \n",
    "    Correlation with different modes:\n",
    "\n",
    "    >>> a = np.array([1, 2, 3])\n",
    "    >>> v = np.ma.array([0, 1, 2], mask=[False, True, False])\n",
    "    >>> np.ma.correlate(a, v, mode='full', propagate_mask=False)\n",
    "    masked_array(data=[0, 1, 2, 3, 0],\n",
    "                 mask=[False, False, False, False, False],\n",
    "           fill_value=90867098999)\n",
    "\"\"\"\n",
    "\n",
    "print(clean_and_process_text(text))\n"
   ]
  },
  {
   "cell_type": "code",
   "execution_count": null,
   "metadata": {},
   "outputs": [],
   "source": [
    "msg = \"\"\"\n",
    "DOC: AI-Gen examples for ...\n",
    "\n",
    "Examples created by Llama3-70B. \n",
    "Reviewed and modified as part of POSSEE.\n",
    "Co-authored-by: Ben Woodruff <bmwoodruff@gmail.com>\"\"\"\n",
    "\n",
    "print(format_commit_message(msg))"
   ]
  }
 ],
 "metadata": {},
 "nbformat": 4,
 "nbformat_minor": 4
}
